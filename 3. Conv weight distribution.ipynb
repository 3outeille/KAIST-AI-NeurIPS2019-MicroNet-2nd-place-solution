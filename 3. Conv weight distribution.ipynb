{
 "cells": [
  {
   "cell_type": "code",
   "execution_count": 1,
   "metadata": {},
   "outputs": [],
   "source": [
    "import ast\n",
    "import torch\n",
    "import numpy as np\n",
    "import os, sys\n",
    "from thop import profile\n",
    "from torchvision import datasets, transforms\n",
    "import matplotlib.pyplot as plt\n",
    "from torchsummary import summary\n",
    "\n",
    "from Utils import *\n",
    "from Models import *"
   ]
  },
  {
   "cell_type": "code",
   "execution_count": 2,
   "metadata": {},
   "outputs": [],
   "source": [
    "checkpoint = torch.load('./Checkpoint/micronet_ver2.t7')"
   ]
  },
  {
   "cell_type": "code",
   "execution_count": 3,
   "metadata": {},
   "outputs": [
    {
     "data": {
      "text/plain": [
       "dict_keys(['net_init', 'net1', 'net2', 'net3', 'net4', 'train_losses', 'train_accuracy', 'test_losses', 'test_accuracy', 'flops_params', 'Score'])"
      ]
     },
     "execution_count": 3,
     "metadata": {},
     "output_type": "execute_result"
    }
   ],
   "source": [
    "checkpoint.keys()"
   ]
  },
  {
   "cell_type": "code",
   "execution_count": 4,
   "metadata": {},
   "outputs": [],
   "source": [
    "net = MicroNet(num_classes = 100, add_se = True, Activation = 'HSwish')"
   ]
  },
  {
   "cell_type": "code",
   "execution_count": 5,
   "metadata": {},
   "outputs": [
    {
     "data": {
      "text/plain": [
       "IncompatibleKeys(missing_keys=[], unexpected_keys=[])"
      ]
     },
     "execution_count": 5,
     "metadata": {},
     "output_type": "execute_result"
    }
   ],
   "source": [
    "net.load_state_dict(checkpoint['net4'], strict = False)"
   ]
  },
  {
   "cell_type": "code",
   "execution_count": 18,
   "metadata": {},
   "outputs": [
    {
     "name": "stdout",
     "output_type": "stream",
     "text": [
      "layers.0.conv1.weight\n",
      "in channels: 32, out channels: 80, cur std: 0.1118\n",
      "layers.0.conv2.weight\n",
      "in channels: 1, out channels: 80, cur std: 0.4867\n",
      "layers.0.conv3.weight\n",
      "in channels: 80, out channels: 16, cur std: 0.1452\n",
      "layers.1.conv1.weight\n",
      "in channels: 16, out channels: 40, cur std: 0.1588\n",
      "layers.1.conv2.weight\n",
      "in channels: 1, out channels: 40, cur std: 0.5764\n",
      "layers.1.conv3.weight\n",
      "in channels: 40, out channels: 16, cur std: 0.1872\n",
      "layers.2.conv1.weight\n",
      "in channels: 16, out channels: 40, cur std: 0.1618\n",
      "layers.2.conv2.weight\n",
      "in channels: 1, out channels: 40, cur std: 0.4907\n",
      "layers.2.conv3.weight\n",
      "in channels: 40, out channels: 32, cur std: 0.1786\n",
      "layers.3.conv1.weight\n",
      "in channels: 32, out channels: 80, cur std: 0.1117\n",
      "layers.3.conv2.weight\n",
      "in channels: 1, out channels: 80, cur std: 0.3914\n",
      "layers.3.conv3.weight\n",
      "in channels: 80, out channels: 32, cur std: 0.1347\n",
      "layers.4.conv1.weight\n",
      "in channels: 32, out channels: 80, cur std: 0.1120\n",
      "layers.4.conv2.weight\n",
      "in channels: 1, out channels: 80, cur std: 0.4497\n",
      "layers.4.conv3.weight\n",
      "in channels: 80, out channels: 48, cur std: 0.1237\n",
      "layers.5.conv1.weight\n",
      "in channels: 48, out channels: 120, cur std: 0.0917\n",
      "layers.5.conv2.weight\n",
      "in channels: 1, out channels: 120, cur std: 0.3776\n",
      "layers.5.conv3.weight\n",
      "in channels: 120, out channels: 48, cur std: 0.1070\n",
      "layers.6.conv1.weight\n",
      "in channels: 48, out channels: 120, cur std: 0.0920\n",
      "layers.6.conv2.weight\n",
      "in channels: 1, out channels: 120, cur std: 0.3483\n",
      "layers.6.conv3.weight\n",
      "in channels: 120, out channels: 48, cur std: 0.1085\n",
      "layers.7.conv1.weight\n",
      "in channels: 48, out channels: 120, cur std: 0.0979\n",
      "layers.7.conv2.weight\n",
      "in channels: 1, out channels: 120, cur std: 0.3646\n",
      "layers.7.conv3.weight\n",
      "in channels: 120, out channels: 72, cur std: 0.1106\n",
      "layers.8.conv1.weight\n",
      "in channels: 72, out channels: 180, cur std: 0.0754\n",
      "layers.8.conv2.weight\n",
      "in channels: 1, out channels: 180, cur std: 0.3594\n",
      "layers.8.conv3.weight\n",
      "in channels: 180, out channels: 72, cur std: 0.0865\n",
      "layers.9.conv1.weight\n",
      "in channels: 72, out channels: 180, cur std: 0.0760\n",
      "layers.9.conv2.weight\n",
      "in channels: 1, out channels: 180, cur std: 0.3111\n",
      "layers.9.conv3.weight\n",
      "in channels: 180, out channels: 72, cur std: 0.0874\n",
      "layers.10.conv1.weight\n",
      "in channels: 72, out channels: 180, cur std: 0.0760\n",
      "layers.10.conv2.weight\n",
      "in channels: 1, out channels: 180, cur std: 0.3158\n",
      "layers.10.conv3.weight\n",
      "in channels: 180, out channels: 72, cur std: 0.0867\n",
      "layers.11.conv1.weight\n",
      "in channels: 72, out channels: 180, cur std: 0.0767\n",
      "layers.11.conv2.weight\n",
      "in channels: 1, out channels: 180, cur std: 0.2877\n",
      "layers.11.conv3.weight\n",
      "in channels: 180, out channels: 72, cur std: 0.0875\n",
      "layers.12.conv1.weight\n",
      "in channels: 72, out channels: 180, cur std: 0.0819\n",
      "layers.12.conv2.weight\n",
      "in channels: 1, out channels: 180, cur std: 0.3302\n",
      "layers.12.conv3.weight\n",
      "in channels: 180, out channels: 80, cur std: 0.0964\n",
      "layers.13.conv1.weight\n",
      "in channels: 80, out channels: 200, cur std: 0.0721\n",
      "layers.13.conv2.weight\n",
      "in channels: 1, out channels: 200, cur std: 0.2796\n",
      "layers.13.conv3.weight\n",
      "in channels: 200, out channels: 88, cur std: 0.0811\n",
      "layers.14.conv1.weight\n",
      "in channels: 88, out channels: 220, cur std: 0.0690\n",
      "layers.14.conv2.weight\n",
      "in channels: 1, out channels: 220, cur std: 0.2651\n",
      "layers.14.conv3.weight\n",
      "in channels: 220, out channels: 88, cur std: 0.0793\n",
      "layers.15.conv1.weight\n",
      "in channels: 88, out channels: 220, cur std: 0.0703\n",
      "layers.15.conv2.weight\n",
      "in channels: 1, out channels: 220, cur std: 0.3623\n",
      "layers.15.conv3.weight\n",
      "in channels: 220, out channels: 106, cur std: 0.0777\n"
     ]
    }
   ],
   "source": [
    "net.float()\n",
    "conv1 = []\n",
    "conv3 = []\n",
    "conv2 = []\n",
    "for name, p in net.named_parameters():\n",
    "    if 'layer' in name:\n",
    "        if 'conv1' in name:\n",
    "            print(name)\n",
    "            print('in channels: {}, out channels: {}, cur std: {:.4f}'.format(p.shape[1],p.shape[0], torch.std(p.flatten().cpu().detach()).item()))\n",
    "            conv1.append((p.shape[1],p.shape[0], torch.std(p.flatten().cpu().detach()).item()))\n",
    "        elif 'conv3' in name:\n",
    "            print(name)\n",
    "            print('in channels: {}, out channels: {}, cur std: {:.4f}'.format(p.shape[1],p.shape[0], torch.std(p.flatten().cpu().detach()).item()))\n",
    "            conv3.append((p.shape[1],p.shape[0], torch.std(p.flatten().cpu().detach()).item()))\n",
    "        elif 'conv2' in name:\n",
    "            print(name)\n",
    "            print('in channels: {}, out channels: {}, cur std: {:.4f}'.format(p.shape[1],p.shape[0], torch.std(p.flatten().cpu().detach()).item()))\n",
    "            conv2.append((p.shape[1],p.shape[0], torch.std(p.flatten().cpu().detach()).item()))"
   ]
  },
  {
   "cell_type": "code",
   "execution_count": 16,
   "metadata": {},
   "outputs": [
    {
     "data": {
      "text/plain": [
       "[(32, 80, 0.11183091253042221),\n",
       " (16, 40, 0.15884745121002197),\n",
       " (16, 40, 0.1618334800004959),\n",
       " (32, 80, 0.11165979504585266),\n",
       " (32, 80, 0.11203133314847946),\n",
       " (48, 120, 0.09172869473695755),\n",
       " (48, 120, 0.09202772378921509),\n",
       " (48, 120, 0.09786012768745422),\n",
       " (72, 180, 0.07543502002954483),\n",
       " (72, 180, 0.07595973461866379),\n",
       " (72, 180, 0.07603191584348679),\n",
       " (72, 180, 0.0766792818903923),\n",
       " (72, 180, 0.08187384903430939),\n",
       " (80, 200, 0.07209087908267975),\n",
       " (88, 220, 0.06902409344911575),\n",
       " (88, 220, 0.0702759176492691)]"
      ]
     },
     "execution_count": 16,
     "metadata": {},
     "output_type": "execute_result"
    }
   ],
   "source": [
    "conv1"
   ]
  },
  {
   "cell_type": "code",
   "execution_count": 20,
   "metadata": {},
   "outputs": [
    {
     "data": {
      "text/plain": [
       "[(80, 16, 0.14524002373218536),\n",
       " (40, 16, 0.18716874718666077),\n",
       " (40, 32, 0.1785612404346466),\n",
       " (80, 32, 0.1347312331199646),\n",
       " (80, 48, 0.1237325444817543),\n",
       " (120, 48, 0.10695267468690872),\n",
       " (120, 48, 0.10852937400341034),\n",
       " (120, 72, 0.1106489822268486),\n",
       " (180, 72, 0.08645673841238022),\n",
       " (180, 72, 0.08740988373756409),\n",
       " (180, 72, 0.08668553829193115),\n",
       " (180, 72, 0.08747361600399017),\n",
       " (180, 80, 0.09637001901865005),\n",
       " (200, 88, 0.08105547726154327),\n",
       " (220, 88, 0.07930204272270203),\n",
       " (220, 106, 0.0776604413986206)]"
      ]
     },
     "execution_count": 20,
     "metadata": {},
     "output_type": "execute_result"
    }
   ],
   "source": [
    "conv3"
   ]
  },
  {
   "cell_type": "code",
   "execution_count": 27,
   "metadata": {},
   "outputs": [],
   "source": [
    "block = []\n",
    "for i in range(16):\n",
    "    if i ==2 or i==7 or i==12:\n",
    "        s=2\n",
    "    else:\n",
    "        s=1\n",
    "    block.append([conv1[i][0], conv1[i][1], conv3[i][1], s, conv1[i][2], conv2[i][2], conv3[i][2]])\n",
    "    #in_channel, expanded , out_channel, stride, sigma1, sigma2, sigma3\n",
    "block = np.asarray(block)"
   ]
  },
  {
   "cell_type": "code",
   "execution_count": 112,
   "metadata": {},
   "outputs": [
    {
     "data": {
      "text/plain": [
       "<matplotlib.legend.Legend at 0x7f24f3856940>"
      ]
     },
     "execution_count": 112,
     "metadata": {},
     "output_type": "execute_result"
    },
    {
     "data": {
      "image/png": "[encoded data removed]",
      "text/plain": [
       "<Figure size 432x288 with 1 Axes>"
      ]
     },
     "metadata": {
      "needs_background": "light"
     },
     "output_type": "display_data"
    }
   ],
   "source": [
    "plt.plot(block[:,4], 'o', label = 'pointwise1')\n",
    "plt.plot(block[:,5] , 'bo', label = 'depthwise')\n",
    "plt.plot(block[:,6], 'go', label = 'pointwise2')\n",
    "plt.ylim(0,1)\n",
    "plt.legend()"
   ]
  },
  {
   "cell_type": "code",
   "execution_count": 116,
   "metadata": {},
   "outputs": [
    {
     "data": {
      "text/plain": [
       "<matplotlib.legend.Legend at 0x7f24f3c450b8>"
      ]
     },
     "execution_count": 116,
     "metadata": {},
     "output_type": "execute_result"
    },
    {
     "data": {
      "image/png": "[encoded data removed]",
      "text/plain": [
       "<Figure size 432x288 with 1 Axes>"
      ]
     },
     "metadata": {
      "needs_background": "light"
     },
     "output_type": "display_data"
    }
   ],
   "source": [
    "plt.plot(0.65 / np.sqrt(block[:,0]), 'o', label = 'pointwise1')\n",
    "#plt.plot(block[:,5] , 'bo', label = 'depthwise')\n",
    "plt.plot(1.18 / np.sqrt(block[:,1]), 'go', label = 'pointwise2')\n",
    "plt.ylim(0,1)\n",
    "plt.legend()"
   ]
  },
  {
   "cell_type": "code",
   "execution_count": 105,
   "metadata": {},
   "outputs": [
    {
     "data": {
      "text/plain": [
       "0.14991070777177812"
      ]
     },
     "execution_count": 105,
     "metadata": {},
     "output_type": "execute_result"
    }
   ],
   "source": [
    "np.mean(block[:,5] * block[:,1]/block[:,0])"
   ]
  },
  {
   "cell_type": "code",
   "execution_count": 69,
   "metadata": {},
   "outputs": [
    {
     "data": {
      "text/plain": [
       "(0.11183091253042221,\n",
       " 0.16034046560525894,\n",
       " 0.11184556409716606,\n",
       " 0.09387218207120895,\n",
       " 0.07719596028327942,\n",
       " 0.07046363006035487)"
      ]
     },
     "execution_count": 69,
     "metadata": {},
     "output_type": "execute_result"
    }
   ],
   "source": [
    "block[0,4], np.mean(block[1:3,4]), np.mean(block[3:5,4]), np.mean(block[5:8,4]), np.mean(block[8:13,4]), np.mean(block[13:,4])"
   ]
  },
  {
   "cell_type": "code",
   "execution_count": 109,
   "metadata": {},
   "outputs": [
    {
     "data": {
      "text/plain": [
       "[<matplotlib.lines.Line2D at 0x7f24f39be470>]"
      ]
     },
     "execution_count": 109,
     "metadata": {},
     "output_type": "execute_result"
    },
    {
     "data": {
      "image/png": "[encoded data removed]",
      "text/plain": [
       "<Figure size 432x288 with 1 Axes>"
      ]
     },
     "metadata": {
      "needs_background": "light"
     },
     "output_type": "display_data"
    }
   ],
   "source": [
    "plt.plot(block[:,1]/block[:,0] * 0.15)\n",
    "plt.plot(block[:,5])"
   ]
  },
  {
   "cell_type": "code",
   "execution_count": 119,
   "metadata": {},
   "outputs": [
    {
     "data": {
      "text/plain": [
       "1.1818181818181817"
      ]
     },
     "execution_count": 119,
     "metadata": {},
     "output_type": "execute_result"
    }
   ],
   "source": [
    "0.65 / 0.55"
   ]
  },
  {
   "cell_type": "code",
   "execution_count": 118,
   "metadata": {},
   "outputs": [
    {
     "data": {
      "text/plain": [
       "0.834386001800126"
      ]
     },
     "execution_count": 118,
     "metadata": {},
     "output_type": "execute_result"
    }
   ],
   "source": [
    "1.18"
   ]
  },
  {
   "cell_type": "code",
   "execution_count": null,
   "metadata": {},
   "outputs": [],
   "source": []
  }
 ],
 "metadata": {
  "kernelspec": {
   "display_name": "Python 3",
   "language": "python",
   "name": "python3"
  },
  "language_info": {
   "codemirror_mode": {
    "name": "ipython",
    "version": 3
   },
   "file_extension": ".py",
   "mimetype": "text/x-python",
   "name": "python",
   "nbconvert_exporter": "python",
   "pygments_lexer": "ipython3",
   "version": "3.7.3"
  }
 },
 "nbformat": 4,
 "nbformat_minor": 2
}
