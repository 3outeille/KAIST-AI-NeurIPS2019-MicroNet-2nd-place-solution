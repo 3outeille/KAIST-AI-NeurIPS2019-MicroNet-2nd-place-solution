{
 "cells": [
  {
   "cell_type": "code",
   "execution_count": 1,
   "metadata": {},
   "outputs": [],
   "source": [
    "import os\n",
    "import time\n",
    "import argparse\n",
    "import shutil\n",
    "import math\n",
    "\n",
    "import torch\n",
    "import torch.nn as nn\n",
    "import torch.optim as optim\n",
    "import numpy as np\n",
    "from thop import profile\n",
    "import matplotlib.pyplot as plt\n",
    "\n",
    "from Utils import *\n",
    "from Models import *"
   ]
  },
  {
   "cell_type": "code",
   "execution_count": 2,
   "metadata": {},
   "outputs": [],
   "source": [
    "class HSwish_dev(nn.Module):\n",
    "    \"\"\"\n",
    "    H-Swish activation function from 'Searching for MobileNetV3,' https://arxiv.org/abs/1905.02244.\n",
    "    Parameters:\n",
    "    ----------\n",
    "    inplace : bool\n",
    "        Whether to use inplace version of the module.\n",
    "    \"\"\"\n",
    "    def __init__(self, inplace=True):\n",
    "        super(HSwish_dev, self).__init__()\n",
    "        self.inplace = inplace\n",
    "        self.sigmoid = nn.Sigmoid()\n",
    "\n",
    "    def forward(self, x):\n",
    "        return self.sigmoid(x) + x * torch.exp(-x) * (self.sigmoid(x) * self.sigmoid(x))"
   ]
  },
  {
   "cell_type": "code",
   "execution_count": 2,
   "metadata": {},
   "outputs": [],
   "source": [
    "net = MicroNet(num_classes = 100, add_se = True, Activation = 'HSwish')"
   ]
  },
  {
   "cell_type": "code",
   "execution_count": 11,
   "metadata": {},
   "outputs": [
    {
     "name": "stdout",
     "output_type": "stream",
     "text": [
      "Conv2d(320, 640, kernel_size=(1, 1), stride=(1, 1), bias=False)\n"
     ]
    }
   ],
   "source": [
    "for name, module in net.named_children():\n",
    "    if 'last' in name:\n",
    "        print(module)"
   ]
  },
  {
   "cell_type": "code",
   "execution_count": 3,
   "metadata": {},
   "outputs": [
    {
     "name": "stdout",
     "output_type": "stream",
     "text": [
      "|| Prepare dataset with FastAutoAugmentation ||\n",
      "Files already downloaded and verified\n"
     ]
    }
   ],
   "source": [
    "train_loader, test_loader, num_classes = transform_data_set('CIFAR100', batch_size = 128, augmentation = 'FastAuto')"
   ]
  },
  {
   "cell_type": "code",
   "execution_count": 4,
   "metadata": {},
   "outputs": [],
   "source": [
    "checkpoint = torch.load('./Checkpoint/micronet_ver6.t7')"
   ]
  },
  {
   "cell_type": "code",
   "execution_count": 5,
   "metadata": {},
   "outputs": [
    {
     "data": {
      "text/plain": [
       "dict_keys(['net_init', 'net1', 'net2', 'net3', 'net4', 'train_losses', 'train_accuracy', 'test_losses', 'test_accuracy', 'flops_params', 'Score'])"
      ]
     },
     "execution_count": 5,
     "metadata": {},
     "output_type": "execute_result"
    }
   ],
   "source": [
    "checkpoint.keys()"
   ]
  },
  {
   "cell_type": "code",
   "execution_count": 19,
   "metadata": {},
   "outputs": [
    {
     "data": {
      "text/plain": [
       "[7338.0,\n",
       " 7395.999999999999,\n",
       " 7320.0,\n",
       " 7402.0,\n",
       " 7348.0,\n",
       " 7504.000000000001,\n",
       " 7498.999999999999,\n",
       " 7570.0,\n",
       " 7517.0,\n",
       " 7528.0,\n",
       " 7506.0,\n",
       " 7633.0,\n",
       " 7580.0,\n",
       " 7575.0,\n",
       " 7589.0,\n",
       " 7703.0,\n",
       " 7653.0,\n",
       " 7711.0,\n",
       " 7600.0,\n",
       " 7628.0,\n",
       " 7653.0,\n",
       " 7718.000000000001,\n",
       " 7736.0,\n",
       " 7698.999999999999,\n",
       " 7761.0,\n",
       " 7723.0,\n",
       " 7889.0,\n",
       " 7798.999999999999,\n",
       " 7828.0,\n",
       " 7834.0,\n",
       " 7886.0,\n",
       " 7869.0,\n",
       " 7865.000000000001,\n",
       " 7886.0,\n",
       " 7895.999999999999,\n",
       " 7900.0,\n",
       " 7948.999999999999,\n",
       " 7870.0,\n",
       " 7941.0,\n",
       " 7938.0,\n",
       " 7929.000000000001,\n",
       " 7945.0,\n",
       " 7979.000000000001,\n",
       " 7969.0,\n",
       " 7950.0,\n",
       " 7950.0,\n",
       " 7969.0,\n",
       " 7973.999999999999,\n",
       " 7951.000000000001,\n",
       " 7968.000000000001]"
      ]
     },
     "execution_count": 19,
     "metadata": {},
     "output_type": "execute_result"
    }
   ],
   "source": [
    "checkpoint['test_accuracy'][350:400]"
   ]
  },
  {
   "cell_type": "code",
   "execution_count": 15,
   "metadata": {},
   "outputs": [
    {
     "data": {
      "text/plain": [
       "IncompatibleKeys(missing_keys=[], unexpected_keys=[])"
      ]
     },
     "execution_count": 15,
     "metadata": {},
     "output_type": "execute_result"
    }
   ],
   "source": [
    "net.load_state_dict(checkpoint['net4'], strict = False)"
   ]
  },
  {
   "cell_type": "code",
   "execution_count": 16,
   "metadata": {},
   "outputs": [],
   "source": [
    "net.to(net.device)\n",
    "net.half()  \n",
    "for layer in net.modules():\n",
    "    if isinstance(layer, nn.BatchNorm2d):\n",
    "        layer.float()"
   ]
  },
  {
   "cell_type": "code",
   "execution_count": 17,
   "metadata": {},
   "outputs": [
    {
     "name": "stderr",
     "output_type": "stream",
     "text": [
      "100%|██████████| 200/200 [00:06<00:00, 28.57it/s]"
     ]
    },
    {
     "name": "stdout",
     "output_type": "stream",
     "text": [
      "Loss: 0.758 | Acc1: 79.220% | Acc5: 95.660%\n"
     ]
    },
    {
     "name": "stderr",
     "output_type": "stream",
     "text": [
      "\n"
     ]
    },
    {
     "data": {
      "text/plain": [
       "(7922.0, 0.757601318359375)"
      ]
     },
     "execution_count": 17,
     "metadata": {},
     "output_type": "execute_result"
    }
   ],
   "source": [
    "eval_16bit(net, test_loader)"
   ]
  },
  {
   "cell_type": "code",
   "execution_count": 6,
   "metadata": {},
   "outputs": [],
   "source": [
    "class HSwish(nn.Module):\n",
    "    \"\"\"\n",
    "    H-Swish activation function from 'Searching for MobileNetV3,' https://arxiv.org/abs/1905.02244.\n",
    "    Parameters:\n",
    "    ----------\n",
    "    inplace : bool\n",
    "        Whether to use inplace version of the module.\n",
    "    \"\"\"\n",
    "    def __init__(self, inplace=True):\n",
    "        super(HSwish, self).__init__()\n",
    "        self.inplace = inplace\n",
    "        self.relu = nn.ReLU6(inplace = self.inplace)\n",
    "\n",
    "    def forward(self, x):\n",
    "        return x * self.relu(x + 3.0) / 6.0"
   ]
  },
  {
   "cell_type": "code",
   "execution_count": 9,
   "metadata": {},
   "outputs": [],
   "source": [
    "def hswish_ops(m, x, y):\n",
    "    x = x[0]\n",
    "\n",
    "    nelements = x.numel()\n",
    "\n",
    "    m.total_ops += torch.Tensor([int(nelements)]) * 4"
   ]
  },
  {
   "cell_type": "code",
   "execution_count": 24,
   "metadata": {},
   "outputs": [],
   "source": [
    "def sigmoid_ops(m, x, y):\n",
    "    x = x[0]\n",
    "\n",
    "    nelements = x.numel()\n",
    "\n",
    "    m.total_ops += torch.Tensor([int(nelements)]) * 3"
   ]
  },
  {
   "cell_type": "code",
   "execution_count": 9,
   "metadata": {},
   "outputs": [],
   "source": [
    "def count_nonzero(net):\n",
    "    num = 0 \n",
    "    for module in net.parameters():\n",
    "        num += torch.sum(torch.abs(module.flatten()) != 0.)\n",
    "    return num.item()"
   ]
  },
  {
   "cell_type": "code",
   "execution_count": 10,
   "metadata": {},
   "outputs": [
    {
     "data": {
      "text/plain": [
       "342300"
      ]
     },
     "execution_count": 10,
     "metadata": {},
     "output_type": "execute_result"
    }
   ],
   "source": [
    "num = 0 \n",
    "for module in net.parameters():\n",
    "     num += len(torch.abs(module.flatten()))\n",
    "num"
   ]
  },
  {
   "cell_type": "code",
   "execution_count": 12,
   "metadata": {},
   "outputs": [],
   "source": [
    "def micro_score(net, precision = 'FP16'):\n",
    "    input = torch.randn(1, 3, 32, 32).type(torch.HalfTensor).to(net.device)\n",
    "    flops, params = profile(net, inputs=(input, ))\n",
    "    non_zero_ratio = count_nonzero(net) / params\n",
    "    \n",
    "    \n",
    "    flops = flops * non_zero_ratio\n",
    "    params = params * non_zero_ratio\n",
    "    #use fp-16bit\n",
    "    if precision == 'FP16':\n",
    "        flops = flops / 2\n",
    "        params = params / 2\n",
    "    \n",
    "    score = params/36500000 + flops/10490000000\n",
    "    print('Non zero ratio: {}'.format(non_zero_ratio))\n",
    "    print('Score: {}, flops: {}, params: {}'.format(score, flops, params))\n",
    "    return score"
   ]
  },
  {
   "cell_type": "code",
   "execution_count": 13,
   "metadata": {},
   "outputs": [
    {
     "name": "stdout",
     "output_type": "stream",
     "text": [
      "THOP has not implemented counting method for  CrossEntropyLoss()\n",
      "Register FLOP counter for module Conv2d(3, 32, kernel_size=(3, 3), stride=(1, 1), padding=(1, 1), bias=False)\n",
      "Register FLOP counter for module BatchNorm2d(32, eps=1e-05, momentum=0.01, affine=True, track_running_stats=True)\n",
      "Register FLOP counter for module Conv2d(32, 64, kernel_size=(1, 1), stride=(1, 1), bias=False)\n",
      "Register FLOP counter for module BatchNorm2d(64, eps=1e-05, momentum=0.01, affine=True, track_running_stats=True)\n",
      "Register FLOP counter for module Conv2d(64, 64, kernel_size=(3, 3), stride=(1, 1), padding=(1, 1), groups=64, bias=False)\n",
      "Register FLOP counter for module BatchNorm2d(64, eps=1e-05, momentum=0.01, affine=True, track_running_stats=True)\n",
      "Register FLOP counter for module Conv2d(64, 16, kernel_size=(1, 1), stride=(1, 1), bias=False)\n",
      "Register FLOP counter for module BatchNorm2d(16, eps=1e-05, momentum=0.01, affine=True, track_running_stats=True)\n",
      "Register FLOP counter for module ReLU6(inplace)\n",
      "Register FLOP counter for module ReLU6(inplace)\n",
      "Register FLOP counter for module ReLU6(inplace)\n",
      "Register FLOP counter for module Conv2d(32, 16, kernel_size=(1, 1), stride=(1, 1), bias=False)\n",
      "Register FLOP counter for module BatchNorm2d(16, eps=1e-05, momentum=0.01, affine=True, track_running_stats=True)\n",
      "Register FLOP counter for module AdaptiveAvgPool2d(output_size=1)\n",
      "Register FLOP counter for module Conv2d(16, 4, kernel_size=(1, 1), stride=(1, 1))\n",
      "Register FLOP counter for module Conv2d(4, 16, kernel_size=(1, 1), stride=(1, 1))\n",
      "Register FLOP counter for module Sigmoid()\n",
      "Register FLOP counter for module Conv2d(16, 32, kernel_size=(1, 1), stride=(1, 1), bias=False)\n",
      "Register FLOP counter for module BatchNorm2d(32, eps=1e-05, momentum=0.01, affine=True, track_running_stats=True)\n",
      "Register FLOP counter for module Conv2d(32, 32, kernel_size=(3, 3), stride=(1, 1), padding=(1, 1), groups=32, bias=False)\n",
      "Register FLOP counter for module BatchNorm2d(32, eps=1e-05, momentum=0.01, affine=True, track_running_stats=True)\n",
      "Register FLOP counter for module Conv2d(32, 16, kernel_size=(1, 1), stride=(1, 1), bias=False)\n",
      "Register FLOP counter for module BatchNorm2d(16, eps=1e-05, momentum=0.01, affine=True, track_running_stats=True)\n",
      "Register FLOP counter for module ReLU6(inplace)\n",
      "Register FLOP counter for module ReLU6(inplace)\n",
      "Register FLOP counter for module ReLU6(inplace)\n",
      "THOP has not implemented counting method for  Sequential()\n",
      "Register FLOP counter for module AdaptiveAvgPool2d(output_size=1)\n",
      "Register FLOP counter for module Conv2d(16, 4, kernel_size=(1, 1), stride=(1, 1))\n",
      "Register FLOP counter for module Conv2d(4, 16, kernel_size=(1, 1), stride=(1, 1))\n",
      "Register FLOP counter for module Sigmoid()\n",
      "Register FLOP counter for module Conv2d(16, 32, kernel_size=(1, 1), stride=(1, 1), bias=False)\n",
      "Register FLOP counter for module BatchNorm2d(32, eps=1e-05, momentum=0.01, affine=True, track_running_stats=True)\n",
      "Register FLOP counter for module Conv2d(32, 32, kernel_size=(3, 3), stride=(2, 2), padding=(1, 1), groups=32, bias=False)\n",
      "Register FLOP counter for module BatchNorm2d(32, eps=1e-05, momentum=0.01, affine=True, track_running_stats=True)\n",
      "Register FLOP counter for module Conv2d(32, 32, kernel_size=(1, 1), stride=(1, 1), bias=False)\n",
      "Register FLOP counter for module BatchNorm2d(32, eps=1e-05, momentum=0.01, affine=True, track_running_stats=True)\n",
      "Register FLOP counter for module ReLU6(inplace)\n",
      "Register FLOP counter for module ReLU6(inplace)\n",
      "Register FLOP counter for module ReLU6(inplace)\n",
      "THOP has not implemented counting method for  Sequential()\n",
      "Register FLOP counter for module AdaptiveAvgPool2d(output_size=1)\n",
      "Register FLOP counter for module Conv2d(32, 8, kernel_size=(1, 1), stride=(1, 1))\n",
      "Register FLOP counter for module Conv2d(8, 32, kernel_size=(1, 1), stride=(1, 1))\n",
      "Register FLOP counter for module Sigmoid()\n",
      "Register FLOP counter for module Conv2d(32, 64, kernel_size=(1, 1), stride=(1, 1), bias=False)\n",
      "Register FLOP counter for module BatchNorm2d(64, eps=1e-05, momentum=0.01, affine=True, track_running_stats=True)\n",
      "Register FLOP counter for module Conv2d(64, 64, kernel_size=(3, 3), stride=(1, 1), padding=(1, 1), groups=64, bias=False)\n",
      "Register FLOP counter for module BatchNorm2d(64, eps=1e-05, momentum=0.01, affine=True, track_running_stats=True)\n",
      "Register FLOP counter for module Conv2d(64, 32, kernel_size=(1, 1), stride=(1, 1), bias=False)\n",
      "Register FLOP counter for module BatchNorm2d(32, eps=1e-05, momentum=0.01, affine=True, track_running_stats=True)\n",
      "Register FLOP counter for module ReLU6(inplace)\n",
      "Register FLOP counter for module ReLU6(inplace)\n",
      "Register FLOP counter for module ReLU6(inplace)\n",
      "THOP has not implemented counting method for  Sequential()\n",
      "Register FLOP counter for module AdaptiveAvgPool2d(output_size=1)\n",
      "Register FLOP counter for module Conv2d(32, 8, kernel_size=(1, 1), stride=(1, 1))\n",
      "Register FLOP counter for module Conv2d(8, 32, kernel_size=(1, 1), stride=(1, 1))\n",
      "Register FLOP counter for module Sigmoid()\n",
      "Register FLOP counter for module Conv2d(32, 64, kernel_size=(1, 1), stride=(1, 1), bias=False)\n",
      "Register FLOP counter for module BatchNorm2d(64, eps=1e-05, momentum=0.01, affine=True, track_running_stats=True)\n",
      "Register FLOP counter for module Conv2d(64, 64, kernel_size=(3, 3), stride=(1, 1), padding=(1, 1), groups=64, bias=False)\n",
      "Register FLOP counter for module BatchNorm2d(64, eps=1e-05, momentum=0.01, affine=True, track_running_stats=True)\n",
      "Register FLOP counter for module Conv2d(64, 48, kernel_size=(1, 1), stride=(1, 1), bias=False)\n",
      "Register FLOP counter for module BatchNorm2d(48, eps=1e-05, momentum=0.01, affine=True, track_running_stats=True)\n",
      "Register FLOP counter for module ReLU6(inplace)\n",
      "Register FLOP counter for module ReLU6(inplace)\n",
      "Register FLOP counter for module ReLU6(inplace)\n",
      "Register FLOP counter for module Conv2d(32, 48, kernel_size=(1, 1), stride=(1, 1), bias=False)\n",
      "Register FLOP counter for module BatchNorm2d(48, eps=1e-05, momentum=0.01, affine=True, track_running_stats=True)\n",
      "Register FLOP counter for module AdaptiveAvgPool2d(output_size=1)\n",
      "Register FLOP counter for module Conv2d(48, 12, kernel_size=(1, 1), stride=(1, 1))\n",
      "Register FLOP counter for module Conv2d(12, 48, kernel_size=(1, 1), stride=(1, 1))\n",
      "Register FLOP counter for module Sigmoid()\n",
      "Register FLOP counter for module Conv2d(48, 96, kernel_size=(1, 1), stride=(1, 1), bias=False)\n",
      "Register FLOP counter for module BatchNorm2d(96, eps=1e-05, momentum=0.01, affine=True, track_running_stats=True)\n",
      "Register FLOP counter for module Conv2d(96, 96, kernel_size=(3, 3), stride=(1, 1), padding=(1, 1), groups=96, bias=False)\n",
      "Register FLOP counter for module BatchNorm2d(96, eps=1e-05, momentum=0.01, affine=True, track_running_stats=True)\n",
      "Register FLOP counter for module Conv2d(96, 48, kernel_size=(1, 1), stride=(1, 1), bias=False)\n",
      "Register FLOP counter for module BatchNorm2d(48, eps=1e-05, momentum=0.01, affine=True, track_running_stats=True)\n",
      "Register FLOP counter for module ReLU6(inplace)\n",
      "Register FLOP counter for module ReLU6(inplace)\n",
      "Register FLOP counter for module ReLU6(inplace)\n",
      "THOP has not implemented counting method for  Sequential()\n",
      "Register FLOP counter for module AdaptiveAvgPool2d(output_size=1)\n",
      "Register FLOP counter for module Conv2d(48, 12, kernel_size=(1, 1), stride=(1, 1))\n",
      "Register FLOP counter for module Conv2d(12, 48, kernel_size=(1, 1), stride=(1, 1))\n",
      "Register FLOP counter for module Sigmoid()\n",
      "Register FLOP counter for module Conv2d(48, 96, kernel_size=(1, 1), stride=(1, 1), bias=False)\n",
      "Register FLOP counter for module BatchNorm2d(96, eps=1e-05, momentum=0.01, affine=True, track_running_stats=True)\n",
      "Register FLOP counter for module Conv2d(96, 96, kernel_size=(3, 3), stride=(1, 1), padding=(1, 1), groups=96, bias=False)\n",
      "Register FLOP counter for module BatchNorm2d(96, eps=1e-05, momentum=0.01, affine=True, track_running_stats=True)\n",
      "Register FLOP counter for module Conv2d(96, 48, kernel_size=(1, 1), stride=(1, 1), bias=False)\n",
      "Register FLOP counter for module BatchNorm2d(48, eps=1e-05, momentum=0.01, affine=True, track_running_stats=True)\n",
      "Register FLOP counter for module ReLU6(inplace)\n",
      "Register FLOP counter for module ReLU6(inplace)\n",
      "Register FLOP counter for module ReLU6(inplace)\n",
      "THOP has not implemented counting method for  Sequential()\n",
      "Register FLOP counter for module AdaptiveAvgPool2d(output_size=1)\n",
      "Register FLOP counter for module Conv2d(48, 12, kernel_size=(1, 1), stride=(1, 1))\n",
      "Register FLOP counter for module Conv2d(12, 48, kernel_size=(1, 1), stride=(1, 1))\n",
      "Register FLOP counter for module Sigmoid()\n",
      "Register FLOP counter for module Conv2d(48, 96, kernel_size=(1, 1), stride=(1, 1), bias=False)\n",
      "Register FLOP counter for module BatchNorm2d(96, eps=1e-05, momentum=0.01, affine=True, track_running_stats=True)\n",
      "Register FLOP counter for module Conv2d(96, 96, kernel_size=(3, 3), stride=(2, 2), padding=(1, 1), groups=96, bias=False)\n",
      "Register FLOP counter for module BatchNorm2d(96, eps=1e-05, momentum=0.01, affine=True, track_running_stats=True)\n",
      "Register FLOP counter for module Conv2d(96, 72, kernel_size=(1, 1), stride=(1, 1), bias=False)\n",
      "Register FLOP counter for module BatchNorm2d(72, eps=1e-05, momentum=0.01, affine=True, track_running_stats=True)\n",
      "Register FLOP counter for module ReLU6(inplace)\n",
      "Register FLOP counter for module ReLU6(inplace)\n",
      "Register FLOP counter for module ReLU6(inplace)\n",
      "THOP has not implemented counting method for  Sequential()\n",
      "Register FLOP counter for module AdaptiveAvgPool2d(output_size=1)\n",
      "Register FLOP counter for module Conv2d(72, 18, kernel_size=(1, 1), stride=(1, 1))\n",
      "Register FLOP counter for module Conv2d(18, 72, kernel_size=(1, 1), stride=(1, 1))\n",
      "Register FLOP counter for module Sigmoid()\n",
      "Register FLOP counter for module Conv2d(72, 144, kernel_size=(1, 1), stride=(1, 1), bias=False)\n",
      "Register FLOP counter for module BatchNorm2d(144, eps=1e-05, momentum=0.01, affine=True, track_running_stats=True)\n",
      "Register FLOP counter for module Conv2d(144, 144, kernel_size=(3, 3), stride=(1, 1), padding=(1, 1), groups=144, bias=False)\n",
      "Register FLOP counter for module BatchNorm2d(144, eps=1e-05, momentum=0.01, affine=True, track_running_stats=True)\n",
      "Register FLOP counter for module Conv2d(144, 72, kernel_size=(1, 1), stride=(1, 1), bias=False)\n",
      "Register FLOP counter for module BatchNorm2d(72, eps=1e-05, momentum=0.01, affine=True, track_running_stats=True)\n",
      "Register FLOP counter for module ReLU6(inplace)\n",
      "Register FLOP counter for module ReLU6(inplace)\n",
      "Register FLOP counter for module ReLU6(inplace)\n",
      "THOP has not implemented counting method for  Sequential()\n",
      "Register FLOP counter for module AdaptiveAvgPool2d(output_size=1)\n",
      "Register FLOP counter for module Conv2d(72, 18, kernel_size=(1, 1), stride=(1, 1))\n",
      "Register FLOP counter for module Conv2d(18, 72, kernel_size=(1, 1), stride=(1, 1))\n",
      "Register FLOP counter for module Sigmoid()\n",
      "Register FLOP counter for module Conv2d(72, 144, kernel_size=(1, 1), stride=(1, 1), bias=False)\n",
      "Register FLOP counter for module BatchNorm2d(144, eps=1e-05, momentum=0.01, affine=True, track_running_stats=True)\n",
      "Register FLOP counter for module Conv2d(144, 144, kernel_size=(3, 3), stride=(1, 1), padding=(1, 1), groups=144, bias=False)\n",
      "Register FLOP counter for module BatchNorm2d(144, eps=1e-05, momentum=0.01, affine=True, track_running_stats=True)\n",
      "Register FLOP counter for module Conv2d(144, 72, kernel_size=(1, 1), stride=(1, 1), bias=False)\n",
      "Register FLOP counter for module BatchNorm2d(72, eps=1e-05, momentum=0.01, affine=True, track_running_stats=True)\n",
      "Register FLOP counter for module ReLU6(inplace)\n",
      "Register FLOP counter for module ReLU6(inplace)\n",
      "Register FLOP counter for module ReLU6(inplace)\n",
      "THOP has not implemented counting method for  Sequential()\n",
      "Register FLOP counter for module AdaptiveAvgPool2d(output_size=1)\n",
      "Register FLOP counter for module Conv2d(72, 18, kernel_size=(1, 1), stride=(1, 1))\n",
      "Register FLOP counter for module Conv2d(18, 72, kernel_size=(1, 1), stride=(1, 1))\n",
      "Register FLOP counter for module Sigmoid()\n",
      "Register FLOP counter for module Conv2d(72, 144, kernel_size=(1, 1), stride=(1, 1), bias=False)\n",
      "Register FLOP counter for module BatchNorm2d(144, eps=1e-05, momentum=0.01, affine=True, track_running_stats=True)\n",
      "Register FLOP counter for module Conv2d(144, 144, kernel_size=(3, 3), stride=(1, 1), padding=(1, 1), groups=144, bias=False)\n",
      "Register FLOP counter for module BatchNorm2d(144, eps=1e-05, momentum=0.01, affine=True, track_running_stats=True)\n",
      "Register FLOP counter for module Conv2d(144, 72, kernel_size=(1, 1), stride=(1, 1), bias=False)\n",
      "Register FLOP counter for module BatchNorm2d(72, eps=1e-05, momentum=0.01, affine=True, track_running_stats=True)\n",
      "Register FLOP counter for module ReLU6(inplace)\n",
      "Register FLOP counter for module ReLU6(inplace)\n",
      "Register FLOP counter for module ReLU6(inplace)\n",
      "THOP has not implemented counting method for  Sequential()\n",
      "Register FLOP counter for module AdaptiveAvgPool2d(output_size=1)\n",
      "Register FLOP counter for module Conv2d(72, 18, kernel_size=(1, 1), stride=(1, 1))\n",
      "Register FLOP counter for module Conv2d(18, 72, kernel_size=(1, 1), stride=(1, 1))\n",
      "Register FLOP counter for module Sigmoid()\n",
      "Register FLOP counter for module Conv2d(72, 144, kernel_size=(1, 1), stride=(1, 1), bias=False)\n",
      "Register FLOP counter for module BatchNorm2d(144, eps=1e-05, momentum=0.01, affine=True, track_running_stats=True)\n",
      "Register FLOP counter for module Conv2d(144, 144, kernel_size=(3, 3), stride=(1, 1), padding=(1, 1), groups=144, bias=False)\n",
      "Register FLOP counter for module BatchNorm2d(144, eps=1e-05, momentum=0.01, affine=True, track_running_stats=True)\n",
      "Register FLOP counter for module Conv2d(144, 72, kernel_size=(1, 1), stride=(1, 1), bias=False)\n",
      "Register FLOP counter for module BatchNorm2d(72, eps=1e-05, momentum=0.01, affine=True, track_running_stats=True)\n",
      "Register FLOP counter for module ReLU6(inplace)\n",
      "Register FLOP counter for module ReLU6(inplace)\n",
      "Register FLOP counter for module ReLU6(inplace)\n",
      "THOP has not implemented counting method for  Sequential()\n",
      "Register FLOP counter for module AdaptiveAvgPool2d(output_size=1)\n",
      "Register FLOP counter for module Conv2d(72, 18, kernel_size=(1, 1), stride=(1, 1))\n",
      "Register FLOP counter for module Conv2d(18, 72, kernel_size=(1, 1), stride=(1, 1))\n",
      "Register FLOP counter for module Sigmoid()\n",
      "Register FLOP counter for module Conv2d(72, 144, kernel_size=(1, 1), stride=(1, 1), bias=False)\n",
      "Register FLOP counter for module BatchNorm2d(144, eps=1e-05, momentum=0.01, affine=True, track_running_stats=True)\n",
      "Register FLOP counter for module Conv2d(144, 144, kernel_size=(3, 3), stride=(2, 2), padding=(1, 1), groups=144, bias=False)\n",
      "Register FLOP counter for module BatchNorm2d(144, eps=1e-05, momentum=0.01, affine=True, track_running_stats=True)\n",
      "Register FLOP counter for module Conv2d(144, 88, kernel_size=(1, 1), stride=(1, 1), bias=False)\n",
      "Register FLOP counter for module BatchNorm2d(88, eps=1e-05, momentum=0.01, affine=True, track_running_stats=True)\n",
      "Register FLOP counter for module ReLU6(inplace)\n",
      "Register FLOP counter for module ReLU6(inplace)\n",
      "Register FLOP counter for module ReLU6(inplace)\n",
      "THOP has not implemented counting method for  Sequential()\n",
      "Register FLOP counter for module AdaptiveAvgPool2d(output_size=1)\n",
      "Register FLOP counter for module Conv2d(88, 22, kernel_size=(1, 1), stride=(1, 1))\n",
      "Register FLOP counter for module Conv2d(22, 88, kernel_size=(1, 1), stride=(1, 1))\n",
      "Register FLOP counter for module Sigmoid()\n",
      "Register FLOP counter for module Conv2d(88, 176, kernel_size=(1, 1), stride=(1, 1), bias=False)\n",
      "Register FLOP counter for module BatchNorm2d(176, eps=1e-05, momentum=0.01, affine=True, track_running_stats=True)\n",
      "Register FLOP counter for module Conv2d(176, 176, kernel_size=(3, 3), stride=(1, 1), padding=(1, 1), groups=176, bias=False)\n",
      "Register FLOP counter for module BatchNorm2d(176, eps=1e-05, momentum=0.01, affine=True, track_running_stats=True)\n",
      "Register FLOP counter for module Conv2d(176, 88, kernel_size=(1, 1), stride=(1, 1), bias=False)\n",
      "Register FLOP counter for module BatchNorm2d(88, eps=1e-05, momentum=0.01, affine=True, track_running_stats=True)\n",
      "Register FLOP counter for module ReLU6(inplace)\n",
      "Register FLOP counter for module ReLU6(inplace)\n",
      "Register FLOP counter for module ReLU6(inplace)\n",
      "THOP has not implemented counting method for  Sequential()\n",
      "Register FLOP counter for module AdaptiveAvgPool2d(output_size=1)\n",
      "Register FLOP counter for module Conv2d(88, 22, kernel_size=(1, 1), stride=(1, 1))\n",
      "Register FLOP counter for module Conv2d(22, 88, kernel_size=(1, 1), stride=(1, 1))\n",
      "Register FLOP counter for module Sigmoid()\n",
      "Register FLOP counter for module Conv2d(88, 176, kernel_size=(1, 1), stride=(1, 1), bias=False)\n",
      "Register FLOP counter for module BatchNorm2d(176, eps=1e-05, momentum=0.01, affine=True, track_running_stats=True)\n",
      "Register FLOP counter for module Conv2d(176, 176, kernel_size=(3, 3), stride=(1, 1), padding=(1, 1), groups=176, bias=False)\n",
      "Register FLOP counter for module BatchNorm2d(176, eps=1e-05, momentum=0.01, affine=True, track_running_stats=True)\n",
      "Register FLOP counter for module Conv2d(176, 88, kernel_size=(1, 1), stride=(1, 1), bias=False)\n",
      "Register FLOP counter for module BatchNorm2d(88, eps=1e-05, momentum=0.01, affine=True, track_running_stats=True)\n",
      "Register FLOP counter for module ReLU6(inplace)\n",
      "Register FLOP counter for module ReLU6(inplace)\n",
      "Register FLOP counter for module ReLU6(inplace)\n",
      "THOP has not implemented counting method for  Sequential()\n",
      "Register FLOP counter for module AdaptiveAvgPool2d(output_size=1)\n",
      "Register FLOP counter for module Conv2d(88, 22, kernel_size=(1, 1), stride=(1, 1))\n",
      "Register FLOP counter for module Conv2d(22, 88, kernel_size=(1, 1), stride=(1, 1))\n",
      "Register FLOP counter for module Sigmoid()\n",
      "Register FLOP counter for module Conv2d(88, 176, kernel_size=(1, 1), stride=(1, 1), bias=False)\n",
      "Register FLOP counter for module BatchNorm2d(176, eps=1e-05, momentum=0.01, affine=True, track_running_stats=True)\n",
      "Register FLOP counter for module Conv2d(176, 176, kernel_size=(3, 3), stride=(1, 1), padding=(1, 1), groups=176, bias=False)\n",
      "Register FLOP counter for module BatchNorm2d(176, eps=1e-05, momentum=0.01, affine=True, track_running_stats=True)\n",
      "Register FLOP counter for module Conv2d(176, 128, kernel_size=(1, 1), stride=(1, 1), bias=False)\n",
      "Register FLOP counter for module BatchNorm2d(128, eps=1e-05, momentum=0.01, affine=True, track_running_stats=True)\n",
      "Register FLOP counter for module ReLU6(inplace)\n",
      "Register FLOP counter for module ReLU6(inplace)\n",
      "Register FLOP counter for module ReLU6(inplace)\n",
      "Register FLOP counter for module Conv2d(88, 128, kernel_size=(1, 1), stride=(1, 1), bias=False)\n",
      "Register FLOP counter for module BatchNorm2d(128, eps=1e-05, momentum=0.01, affine=True, track_running_stats=True)\n",
      "Register FLOP counter for module AdaptiveAvgPool2d(output_size=1)\n",
      "Register FLOP counter for module Conv2d(128, 32, kernel_size=(1, 1), stride=(1, 1))\n",
      "Register FLOP counter for module Conv2d(32, 128, kernel_size=(1, 1), stride=(1, 1))\n",
      "Register FLOP counter for module Sigmoid()\n",
      "Register FLOP counter for module AdaptiveAvgPool2d(output_size=1)\n",
      "Register FLOP counter for module Dropout(p=0.3)\n",
      "Register FLOP counter for module Linear(in_features=128, out_features=100, bias=True)\n",
      "Register FLOP counter for module ReLU6(inplace)\n",
      "Non zero ratio: 0.9992988606485539\n",
      "Score: 0.006158700702320247, flops: 15451216.942681858, params: 171030.0\n"
     ]
    }
   ],
   "source": [
    "net.to(net.device)\n",
    "net.half()  \n",
    "for layer in net.modules():\n",
    "    if isinstance(layer, nn.BatchNorm2d):\n",
    "        layer.float()\n",
    "score = micro_score(net)"
   ]
  },
  {
   "cell_type": "code",
   "execution_count": 14,
   "metadata": {},
   "outputs": [
    {
     "data": {
      "text/plain": [
       "0.006158700702320247"
      ]
     },
     "execution_count": 14,
     "metadata": {},
     "output_type": "execute_result"
    }
   ],
   "source": [
    "score"
   ]
  },
  {
   "cell_type": "code",
   "execution_count": 7,
   "metadata": {},
   "outputs": [
    {
     "data": {
      "text/plain": [
       "0.0044318484119380075"
      ]
     },
     "execution_count": 7,
     "metadata": {},
     "output_type": "execute_result"
    }
   ],
   "source": [
    "np.exp(-9/2) / np.sqrt(2*np.pi)"
   ]
  },
  {
   "cell_type": "code",
   "execution_count": 4,
   "metadata": {},
   "outputs": [
    {
     "data": {
      "text/plain": [
       "3.141592653589793"
      ]
     },
     "execution_count": 4,
     "metadata": {},
     "output_type": "execute_result"
    }
   ],
   "source": []
  },
  {
   "cell_type": "code",
   "execution_count": null,
   "metadata": {},
   "outputs": [],
   "source": []
  }
 ],
 "metadata": {
  "kernelspec": {
   "display_name": "Python 3",
   "language": "python",
   "name": "python3"
  },
  "language_info": {
   "codemirror_mode": {
    "name": "ipython",
    "version": 3
   },
   "file_extension": ".py",
   "mimetype": "text/x-python",
   "name": "python",
   "nbconvert_exporter": "python",
   "pygments_lexer": "ipython3",
   "version": "3.7.3"
  }
 },
 "nbformat": 4,
 "nbformat_minor": 2
}
