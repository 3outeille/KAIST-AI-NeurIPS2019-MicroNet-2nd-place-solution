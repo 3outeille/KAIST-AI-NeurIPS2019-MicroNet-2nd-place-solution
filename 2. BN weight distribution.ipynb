{
 "cells": [
  {
   "cell_type": "code",
   "execution_count": 10,
   "metadata": {},
   "outputs": [],
   "source": [
    "import torch\n",
    "import numpy as np"
   ]
  },
  {
   "cell_type": "code",
   "execution_count": 1,
   "metadata": {},
   "outputs": [],
   "source": [
    "import ast\n",
    "import torch\n",
    "import numpy as np\n",
    "import os, sys\n",
    "from thop import profile\n",
    "from torchvision import datasets, transforms\n",
    "import matplotlib.pyplot as plt\n",
    "from torchsummary import summary\n",
    "\n",
    "from Utils import *\n",
    "from Models import *"
   ]
  },
  {
   "cell_type": "code",
   "execution_count": 12,
   "metadata": {},
   "outputs": [
    {
     "data": {
      "text/plain": [
       "tensor([[-1.8091, -1.8091, -1.8091,  ..., -1.8091, -1.8091, -1.8091],\n",
       "        [-1.8091, -1.8091, -1.8091,  ..., -1.8091, -1.8091, -1.8091],\n",
       "        [-1.8091, -1.8091, -1.8091,  ..., -1.8091, -1.8091, -1.8091],\n",
       "        ...,\n",
       "        [-1.8091, -1.8091, -1.8091,  ..., -1.8091, -1.8091, -1.8091],\n",
       "        [-1.8091, -1.8091, -1.8091,  ..., -1.8091, -1.8091, -1.8091],\n",
       "        [-1.8091, -1.8091, -1.8091,  ..., -1.8091, -1.8091, -1.8091]])"
      ]
     },
     "execution_count": 12,
     "metadata": {},
     "output_type": "execute_result"
    }
   ],
   "source": [
    "(torch.zeros(100,100) - 1)/np.sqrt(11/36)"
   ]
  },
  {
   "cell_type": "code",
   "execution_count": 11,
   "metadata": {},
   "outputs": [
    {
     "data": {
      "text/plain": [
       "0.5527707983925667"
      ]
     },
     "execution_count": 11,
     "metadata": {},
     "output_type": "execute_result"
    }
   ],
   "source": [
    "np.sqrt(11/36)"
   ]
  },
  {
   "cell_type": "code",
   "execution_count": 2,
   "metadata": {},
   "outputs": [],
   "source": [
    "checkpoint = torch.load('./Checkpoint/micronet_ver2.t7')"
   ]
  },
  {
   "cell_type": "code",
   "execution_count": 3,
   "metadata": {},
   "outputs": [
    {
     "data": {
      "text/plain": [
       "dict_keys(['net_init', 'net1', 'net2', 'net3', 'net4', 'train_losses', 'train_accuracy', 'test_losses', 'test_accuracy', 'flops_params', 'Score'])"
      ]
     },
     "execution_count": 3,
     "metadata": {},
     "output_type": "execute_result"
    }
   ],
   "source": [
    "checkpoint.keys()"
   ]
  },
  {
   "cell_type": "code",
   "execution_count": 4,
   "metadata": {},
   "outputs": [],
   "source": [
    "net = MicroNet(num_classes = 100, add_se = True, Activation = 'HSwish')"
   ]
  },
  {
   "cell_type": "code",
   "execution_count": 5,
   "metadata": {},
   "outputs": [
    {
     "data": {
      "text/plain": [
       "IncompatibleKeys(missing_keys=[], unexpected_keys=[])"
      ]
     },
     "execution_count": 5,
     "metadata": {},
     "output_type": "execute_result"
    }
   ],
   "source": [
    "net.load_state_dict(checkpoint['net4'], strict = False)"
   ]
  },
  {
   "cell_type": "code",
   "execution_count": 6,
   "metadata": {},
   "outputs": [],
   "source": [
    "def bn_weight_norm(model):\n",
    "    point_bn_weights = []\n",
    "    depth_bn_weights = []\n",
    "\n",
    "    \n",
    "    for name, p in model.named_parameters():\n",
    "        if 'layer' in name:\n",
    "            if 'bn1' in name and 'weight' in name:\n",
    "                point_bn_weights += list(p.cpu().data.numpy())\n",
    "            elif 'bn3' in name and 'weight' in name:\n",
    "                point_bn_weights += list(p.cpu().data.numpy())\n",
    "            elif 'bn2' in name and 'weight' in name:\n",
    "                depth_bn_weights += list(p.cpu().data.numpy().flatten())\n",
    "                    \n",
    "    return point_bn_weights, depth_bn_weights"
   ]
  },
  {
   "cell_type": "code",
   "execution_count": 7,
   "metadata": {},
   "outputs": [],
   "source": [
    "point_bn_weights, depth_bn_weights = bn_weight_norm(net)"
   ]
  },
  {
   "cell_type": "code",
   "execution_count": 8,
   "metadata": {},
   "outputs": [
    {
     "data": {
      "text/plain": [
       "(array([  0.,   0.,   0.,   4.,   2.,   7.,  11.,  30.,  55.,  22., 165.,\n",
       "        332., 233., 146., 163., 182., 257., 298., 321., 314., 213., 111.,\n",
       "        120.,  64.,  25.,  24.,  16.,  17.,   9.,   9.,   6.,   7.,   2.,\n",
       "          1.,   4.,   1.,   2.,   1.,   0.,   2.,   2.,   0.,   0.,   1.,\n",
       "          0.,   0.,   0.,   0.,   0.]),\n",
       " array([-1.        , -0.89795918, -0.79591837, -0.69387755, -0.59183673,\n",
       "        -0.48979592, -0.3877551 , -0.28571429, -0.18367347, -0.08163265,\n",
       "         0.02040816,  0.12244898,  0.2244898 ,  0.32653061,  0.42857143,\n",
       "         0.53061224,  0.63265306,  0.73469388,  0.83673469,  0.93877551,\n",
       "         1.04081633,  1.14285714,  1.24489796,  1.34693878,  1.44897959,\n",
       "         1.55102041,  1.65306122,  1.75510204,  1.85714286,  1.95918367,\n",
       "         2.06122449,  2.16326531,  2.26530612,  2.36734694,  2.46938776,\n",
       "         2.57142857,  2.67346939,  2.7755102 ,  2.87755102,  2.97959184,\n",
       "         3.08163265,  3.18367347,  3.28571429,  3.3877551 ,  3.48979592,\n",
       "         3.59183673,  3.69387755,  3.79591837,  3.89795918,  4.        ]),\n",
       " <a list of 49 Patch objects>)"
      ]
     },
     "execution_count": 8,
     "metadata": {},
     "output_type": "execute_result"
    },
    {
     "data": {
      "image/png": "[encoded data removed]",
      "text/plain": [
       "<Figure size 432x288 with 1 Axes>"
      ]
     },
     "metadata": {
      "needs_background": "light"
     },
     "output_type": "display_data"
    }
   ],
   "source": [
    "plt.hist(point_bn_weights, bins=np.linspace(-1,4,50))"
   ]
  },
  {
   "cell_type": "code",
   "execution_count": 9,
   "metadata": {},
   "outputs": [
    {
     "data": {
      "text/plain": [
       "(array([  0.,   0.,   0.,   0.,   0.,   0.,   0.,   0.,   0.,   1.,   0.,\n",
       "          0.,   0.,   5., 133., 169., 104., 147., 389., 502., 294., 173.,\n",
       "         86.,  59.,  27.,  17.,  13.,  11.,  12.,   9.,  10.,   7.,  12.,\n",
       "          8.,   5.,   4.,   4.,   8.,   1.,   1.,   2.,   0.,   1.,   2.,\n",
       "          0.,   1.,   1.,   1.,   0.]),\n",
       " array([-1.        , -0.91836735, -0.83673469, -0.75510204, -0.67346939,\n",
       "        -0.59183673, -0.51020408, -0.42857143, -0.34693878, -0.26530612,\n",
       "        -0.18367347, -0.10204082, -0.02040816,  0.06122449,  0.14285714,\n",
       "         0.2244898 ,  0.30612245,  0.3877551 ,  0.46938776,  0.55102041,\n",
       "         0.63265306,  0.71428571,  0.79591837,  0.87755102,  0.95918367,\n",
       "         1.04081633,  1.12244898,  1.20408163,  1.28571429,  1.36734694,\n",
       "         1.44897959,  1.53061224,  1.6122449 ,  1.69387755,  1.7755102 ,\n",
       "         1.85714286,  1.93877551,  2.02040816,  2.10204082,  2.18367347,\n",
       "         2.26530612,  2.34693878,  2.42857143,  2.51020408,  2.59183673,\n",
       "         2.67346939,  2.75510204,  2.83673469,  2.91836735,  3.        ]),\n",
       " <a list of 49 Patch objects>)"
      ]
     },
     "execution_count": 9,
     "metadata": {},
     "output_type": "execute_result"
    },
    {
     "data": {
      "image/png": "[encoded data removed]",
      "text/plain": [
       "<Figure size 432x288 with 1 Axes>"
      ]
     },
     "metadata": {
      "needs_background": "light"
     },
     "output_type": "display_data"
    }
   ],
   "source": [
    "plt.hist(depth_bn_weights, bins=np.linspace(-1,3,50))"
   ]
  },
  {
   "cell_type": "code",
   "execution_count": 20,
   "metadata": {},
   "outputs": [],
   "source": [
    "def bn_weight_square_sum(model):\n",
    "    point_bn_weights1 = []\n",
    "    point_bn_weights3 = []\n",
    "    depth_bn_weights = []\n",
    "\n",
    "    \n",
    "    for name, p in model.named_parameters():\n",
    "        if 'layer' in name:\n",
    "            if 'bn1' in name and 'weight' in name:\n",
    "                n = len(p.cpu().data.numpy())\n",
    "                point_bn_weights1.append(np.sum(np.square((p.cpu().data.numpy())))/n)\n",
    "            elif 'bn3' in name and 'weight' in name:\n",
    "                n = len(p.cpu().data.numpy())\n",
    "                point_bn_weights3.append(np.sum(np.square((p.cpu().data.numpy())))/n)\n",
    "            elif 'bn2' in name and 'weight' in name:\n",
    "                n = len(p.cpu().data.numpy())\n",
    "                depth_bn_weights.append(np.sum(np.square((p.cpu().data.numpy().flatten())))/n)\n",
    "                    \n",
    "    return point_bn_weights1, depth_bn_weights, point_bn_weights3"
   ]
  },
  {
   "cell_type": "code",
   "execution_count": 21,
   "metadata": {},
   "outputs": [],
   "source": [
    "p1, d, p3 = bn_weight_square_sum(net)"
   ]
  },
  {
   "cell_type": "code",
   "execution_count": 25,
   "metadata": {},
   "outputs": [
    {
     "data": {
      "text/plain": [
       "(0.6802304243349065, 0.61556065153895, 1.174073428806746)"
      ]
     },
     "execution_count": 25,
     "metadata": {},
     "output_type": "execute_result"
    }
   ],
   "source": [
    "np.mean(p1), np.mean(d), np.mean(p3)"
   ]
  },
  {
   "cell_type": "code",
   "execution_count": 23,
   "metadata": {},
   "outputs": [
    {
     "data": {
      "text/plain": [
       "[<matplotlib.lines.Line2D at 0x7fd8dd876c88>]"
      ]
     },
     "execution_count": 23,
     "metadata": {},
     "output_type": "execute_result"
    },
    {
     "data": {
      "image/png": "[encoded data removed]",
      "text/plain": [
       "<Figure size 432x288 with 1 Axes>"
      ]
     },
     "metadata": {
      "needs_background": "light"
     },
     "output_type": "display_data"
    }
   ],
   "source": [
    "plt.plot(p3)"
   ]
  },
  {
   "cell_type": "code",
   "execution_count": 24,
   "metadata": {},
   "outputs": [
    {
     "data": {
      "text/plain": [
       "[<matplotlib.lines.Line2D at 0x7fd8dd7c86a0>]"
      ]
     },
     "execution_count": 24,
     "metadata": {},
     "output_type": "execute_result"
    },
    {
     "data": {
      "image/png": "[encoded data removed]",
      "text/plain": [
       "<Figure size 432x288 with 1 Axes>"
      ]
     },
     "metadata": {
      "needs_background": "light"
     },
     "output_type": "display_data"
    }
   ],
   "source": [
    "plt.plot(d)"
   ]
  },
  {
   "cell_type": "code",
   "execution_count": null,
   "metadata": {},
   "outputs": [],
   "source": []
  }
 ],
 "metadata": {
  "kernelspec": {
   "display_name": "Python 3",
   "language": "python",
   "name": "python3"
  },
  "language_info": {
   "codemirror_mode": {
    "name": "ipython",
    "version": 3
   },
   "file_extension": ".py",
   "mimetype": "text/x-python",
   "name": "python",
   "nbconvert_exporter": "python",
   "pygments_lexer": "ipython3",
   "version": "3.7.3"
  }
 },
 "nbformat": 4,
 "nbformat_minor": 2
}
